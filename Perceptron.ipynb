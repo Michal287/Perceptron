{
 "cells": [
  {
   "cell_type": "code",
   "execution_count": 1,
   "metadata": {},
   "outputs": [],
   "source": [
    "import numpy as np\n",
    "\n",
    "class Perceptron(object):\n",
    "    def __init__(self, eta=0.01, n_iter=10, random_state=1):\n",
    "        self.eta = eta\n",
    "        self.n_iter = n_iter\n",
    "        self.random_state = random_state\n",
    "    \n",
    "    def fit(self, X, y):\n",
    "        rgen = np.random.RandomState(self.random_state)\n",
    "        \"Generowanie losowych wag z ziarnem(np 1 są już ustawione domyślne wagi)\"\n",
    "        self.w_ = rgen.normal(loc=0.0, scale=0.01, size=1 + X.shape[1])\n",
    "        \"\"\"obliczanie najmniejszych odchyleń\n",
    "            loc: średnia rozkładu\n",
    "            scale: rozpiętość rozkładu\n",
    "            size: jeżeli rozmiar jest domyślny nic nie zmienia jeżeli inny jest zmieniany wzorem(shape 2 wartość w tablicy)\n",
    "                \"\"\"\n",
    "        self.errors_ = []\n",
    "        \"\"\"Lista aktualizacji podczas danego przejazdu funkcji\"\"\"\n",
    "\n",
    "        for _ in range(self.n_iter):\n",
    "            errors = 0\n",
    "            \n",
    "            \"\"\"czy xi(dane) są równe targetowi(-1 bądź 1)\"\"\"\n",
    "\n",
    "            for xi, target in zip(X, y):\n",
    "                update = self.eta * (target - self.predict(xi))\n",
    "                \"\"\"aktualizacja wag(dąży do 1 lub -1 w zależności od rekordu) = współczynnik uczenia * aktualizacja wagi\"\"\"\n",
    "                self.w_[1:] += update * xi\n",
    "                \"\"\"aktualizacja wag\"\"\"\n",
    "                self.w_[0] += update \n",
    "                \"\"\"obciążenie jednostkowe\"\"\"\n",
    "                errors += int(update != 0.0)\n",
    "            self.errors_.append(errors)\n",
    "        return self\n",
    "    \n",
    "    def predict(self, X):\n",
    "        \"\"\" do jakiego kwaita dążą wartości, gdzie wynik net_input jest równy bądź większy od zera wzróć 1 w innym przypdaku -1(zwraca etykiete klas)\"\"\"\n",
    "        return np.where(self.net_input(X) >= 0.0, 1, -1)   \n",
    "    \n",
    "    def net_input(self, X):\n",
    "        \"\"\"(oblicza całkowite pobudzenie, mnożenie macierzy) obliczanie o ile waga musi sie zmienic\"\"\"\n",
    "        return np.dot(X, self.w_[1:]) + self.w_[0]"
   ]
  },
  {
   "cell_type": "code",
   "execution_count": 2,
   "metadata": {
    "scrolled": true
   },
   "outputs": [
    {
     "data": {
      "text/plain": [
       "'Podział na dane treningowe i testowe w zależności 70 do 30'"
      ]
     },
     "execution_count": 2,
     "metadata": {},
     "output_type": "execute_result"
    }
   ],
   "source": [
    "import pandas as pd\n",
    "import numpy as np\n",
    "from sklearn.model_selection import train_test_split\n",
    "from sklearn.preprocessing import MinMaxScaler\n",
    "\n",
    "# Pobranie i oczyszczanie danych\n",
    "\n",
    "df = pd.read_csv('https://vincentarelbundock.github.io/Rdatasets/csv/Stat2Data/Hawks.csv')\n",
    "\n",
    "'''Pobieranie danych'''\n",
    "\n",
    "df = df[(df.Species == 'SS') | (df.Species == 'RT')]\n",
    "\n",
    "'''Wybór danych tylko tam gdzie są gatunki SS lub RT'''\n",
    "\n",
    "y = df.Species.values\n",
    "\n",
    "'''Pobranie targetów'''\n",
    "\n",
    "y = np.where(y == 'SS', 1, -1)\n",
    "\n",
    "'''Przypisanie targetom wartości 1 lub -1 w zależności jaki to gatunek'''\n",
    "\n",
    "X = df[['Wing', 'Tail']].values\n",
    "\n",
    "'''Pobranie wartości z kolumn'''\n",
    "\n",
    "# Podział na dane treningowe i testowe\n",
    "\n",
    "X_train, X_test, y_train,  y_test = train_test_split(X, y, test_size=0.3, stratify=y)\n",
    "\n",
    "'''Podział na dane treningowe i testowe w zależności 70 do 30'''"
   ]
  },
  {
   "cell_type": "code",
   "execution_count": 3,
   "metadata": {},
   "outputs": [
    {
     "name": "stdout",
     "output_type": "stream",
     "text": [
      "Nieprawidłowo sklasyfikowane próbki: 2\n",
      "Dokładnośc wynosi 0.9920634920634921\n"
     ]
    },
    {
     "data": {
      "text/plain": [
       "'Sprawdzenie dokładności modelu'"
      ]
     },
     "execution_count": 3,
     "metadata": {},
     "output_type": "execute_result"
    }
   ],
   "source": [
    "import matplotlib.pyplot as plt\n",
    "import numpy as np\n",
    "from sklearn.preprocessing import StandardScaler\n",
    "from sklearn.metrics import accuracy_score\n",
    "\n",
    "sc = StandardScaler()\n",
    "sc.fit(X_train)\n",
    "X_train_std = sc.transform(X_train)\n",
    "X_test_std = sc.transform(X_test)\n",
    "\n",
    "'''Standaryzacja danych'''\n",
    "\n",
    "ppn = Perceptron(eta=0.01, n_iter=10)\n",
    "\n",
    "ppn.fit(X_train_std, y_train)\n",
    "\n",
    "'''Trenowanie modelu'''\n",
    "\n",
    "y_pred = ppn.predict(X_test_std)\n",
    "print(f\"Nieprawidłowo sklasyfikowane próbki: { (y_test != y_pred).sum() }\")\n",
    "\n",
    "print(f\"Dokładnośc wynosi {accuracy_score(y_test, y_pred)}\")\n",
    "\n",
    "'''Sprawdzenie dokładności modelu'''"
   ]
  },
  {
   "cell_type": "code",
   "execution_count": 4,
   "metadata": {},
   "outputs": [
    {
     "data": {
      "image/png": "[encoded data removed]",
      "text/plain": [
       "<Figure size 432x288 with 1 Axes>"
      ]
     },
     "metadata": {
      "needs_background": "light"
     },
     "output_type": "display_data"
    }
   ],
   "source": [
    "from matplotlib.colors import ListedColormap\n",
    "\n",
    "def plot_decision_regions(X, y, classifier, test_idx=None, resolution=0.002):\n",
    "\n",
    "    markers = ('s', 'x', 'o', '^', 'v')\n",
    "    colors = ('red', 'blue', 'lightgreen', 'gray', 'cyan')\n",
    "    cmap = ListedColormap(colors[:len(np.unique(y))])\n",
    "    \n",
    "    '''Określenie znaczników'''\n",
    "\n",
    "    \n",
    "    '''Rysuje powierzchnie decyzyjną'''\n",
    "    x1_min, x1_max = X[:, 0].min() - 1, X[:, 0].max() + 1\n",
    "    x2_min, x2_max = X[:, 1].min() - 1, X[:, 1].max() + 1\n",
    "    xx1, xx2 = np.meshgrid(np.arange(x1_min, x1_max, resolution),\n",
    "                           np.arange(x2_min, x2_max, resolution))\n",
    "\n",
    "    Z = classifier.predict(np.array([xx1.ravel(), xx2.ravel()]).T)\n",
    "    Z = Z.reshape(xx1.shape)\n",
    "    \n",
    "    plt.contourf(xx1, xx2, Z, alpha=0.1, cmap=cmap)\n",
    "    plt.xlim(xx1.min(), xx1.max())\n",
    "    plt.ylim(xx2.min(), xx2.max())\n",
    "\n",
    "    \n",
    "    '''Rysuje wykres próbek'''\n",
    "    for idx, cl in enumerate(np.unique(y)):\n",
    "        plt.scatter(x=X[y == cl, 0], y=X[y == cl, 1],\n",
    "                    alpha=0.9, c=colors[idx],\n",
    "                    marker=markers[idx], label=cl,\n",
    "                    edgecolor='black')\n",
    "\n",
    "\n",
    "\"\"\"Połączenie tablic\"\"\"\n",
    "X_combined_std = np.vstack((X_train_std, X_test_std))\n",
    "y_combined = np.hstack((y_train, y_test))\n",
    "\n",
    "\n",
    "\"\"\"Rysowanie\"\"\"\n",
    "plot_decision_regions(X=X_combined_std, y=y_combined,\n",
    "                      classifier=ppn)\n",
    "\n",
    "plt.xlabel('długość skrzydeł [Standaryzowane]')\n",
    "plt.ylabel('długość ogonów [Standaryzowane]')\n",
    "plt.legend(loc='upper left')\n",
    "\n",
    "plt.show()"
   ]
  },
  {
   "cell_type": "code",
   "execution_count": null,
   "metadata": {},
   "outputs": [],
   "source": []
  },
  {
   "cell_type": "code",
   "execution_count": null,
   "metadata": {},
   "outputs": [],
   "source": []
  },
  {
   "cell_type": "code",
   "execution_count": null,
   "metadata": {},
   "outputs": [],
   "source": []
  },
  {
   "cell_type": "code",
   "execution_count": null,
   "metadata": {},
   "outputs": [],
   "source": []
  },
  {
   "cell_type": "code",
   "execution_count": null,
   "metadata": {},
   "outputs": [],
   "source": []
  },
  {
   "cell_type": "code",
   "execution_count": null,
   "metadata": {},
   "outputs": [],
   "source": []
  }
 ],
 "metadata": {
  "kernelspec": {
   "display_name": "Python 3",
   "language": "python",
   "name": "python3"
  },
  "language_info": {
   "codemirror_mode": {
    "name": "ipython",
    "version": 3
   },
   "file_extension": ".py",
   "mimetype": "text/x-python",
   "name": "python",
   "nbconvert_exporter": "python",
   "pygments_lexer": "ipython3",
   "version": "3.8.5"
  }
 },
 "nbformat": 4,
 "nbformat_minor": 1
}
